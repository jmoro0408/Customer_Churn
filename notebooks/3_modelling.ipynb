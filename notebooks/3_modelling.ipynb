{
 "cells": [
  {
   "cell_type": "code",
   "execution_count": 40,
   "metadata": {},
   "outputs": [],
   "source": [
    "from collections import Counter\n",
    "from dataclasses import dataclass\n",
    "from pathlib import Path\n",
    "\n",
    "import dill as pickle\n",
    "import matplotlib.pyplot as plt\n",
    "import numpy as np\n",
    "import pandas as pd\n",
    "import seaborn as sns\n",
    "import xgboost as xgb\n",
    "\n",
    "from imblearn.combine import SMOTEENN\n",
    "from imblearn.over_sampling import RandomOverSampler\n",
    "from imblearn.under_sampling import ClusterCentroids, RandomUnderSampler\n",
    "from sklearn.linear_model import LogisticRegression\n",
    "from sklearn.metrics import (\n",
    "    ConfusionMatrixDisplay,\n",
    "    auc,\n",
    "    confusion_matrix,\n",
    "    f1_score,\n",
    "    precision_score,\n",
    "    recall_score,\n",
    ")\n",
    "from sklearn.model_selection import cross_val_predict, cross_val_score, cross_validate\n",
    "\n",
    "pd.set_option(\"display.max_columns\", None)  # Display all columns\n",
    "\n",
    "plt.style.use(\"ggplot\")"
   ]
  },
  {
   "cell_type": "code",
   "execution_count": 41,
   "metadata": {},
   "outputs": [],
   "source": [
    "interim_data_dir = Path(Path.cwd().parent, \"data\", \"interim\")\n",
    "processed_data_dir = Path(Path.cwd().parent, \"data\", \"processed\")\n",
    "X_train = pd.read_pickle(Path(processed_data_dir, \"X_train_transformed.pkl\"))\n",
    "y_train = pd.read_pickle(Path(interim_data_dir, \"y_train.pkl\"))"
   ]
  },
  {
   "cell_type": "code",
   "execution_count": 42,
   "metadata": {},
   "outputs": [
    {
     "name": "stdout",
     "output_type": "stream",
     "text": [
      "(80000, 115) (80000,)\n"
     ]
    }
   ],
   "source": [
    "print(X_train.shape, y_train.shape)"
   ]
  },
  {
   "cell_type": "markdown",
   "metadata": {},
   "source": [
    "# Initial Thoughts\n",
    "## Potential models\n",
    "This is a binary classification task, and generally simpler models are best to start with. Therefore I will try logistic regression and a boosted decision tree initially and move on to more complex method if these do not give acceptable results. \n",
    "\n",
    "## Metrics\n",
    "This is an imbalanced dataset, so useful metrics will be F1 score and precision and recall. "
   ]
  },
  {
   "cell_type": "code",
   "execution_count": 43,
   "metadata": {},
   "outputs": [],
   "source": [
    "class MLModel:\n",
    "    \"\"\"\n",
    "    Helper class to run various classifiers, undertake cross validation,\n",
    "    and save hyperparameters and metrics.\n",
    "\n",
    "    \"\"\"\n",
    "\n",
    "    def __init__(self, name, clf, X_train, y_train):\n",
    "        self.name = name\n",
    "        self.clf = clf\n",
    "        self.X_train = X_train\n",
    "        self.y_train = y_train\n",
    "\n",
    "        self.scoring = {\n",
    "            \"Precision\": \"precision\",\n",
    "            \"Recall\": \"recall\",\n",
    "            \"F1\": \"f1\",\n",
    "        }\n",
    "\n",
    "    def fit(self):\n",
    "        self.full_scores = cross_validate(\n",
    "            self.clf,\n",
    "            self.X_train,\n",
    "            self.y_train,\n",
    "            scoring=self.scoring,\n",
    "            cv=5,\n",
    "            return_estimator=False,\n",
    "        )\n",
    "        self.scores = {k: np.mean(v) for k, v in self.full_scores.items()}\n",
    "\n",
    "    def get_hyperparameters(self):\n",
    "        self.hyperparameters = self.clf.get_params()\n",
    "\n",
    "    def get_probabilities(self):\n",
    "        self.probabilities = cross_val_predict(\n",
    "            self.clf, self.X_train, self.y_train, cv=5, method=\"predict_proba\"\n",
    "        )\n",
    "\n",
    "    def get_predictions(self):\n",
    "        self.preds = cross_val_predict(\n",
    "            self.clf, self.X_train, self.y_train, cv=5, method=\"predict\"\n",
    "        )\n",
    "\n",
    "    def display_confusion_matrix(self):\n",
    "        cm = confusion_matrix(self.y_train, self.preds, labels=np.array([0, 1]))\n",
    "        disp = ConfusionMatrixDisplay(\n",
    "            confusion_matrix=cm, display_labels=np.array([0, 1])\n",
    "        )\n",
    "        disp.plot()\n",
    "\n",
    "    def run_all_metrics(self):\n",
    "        self.fit()\n",
    "        self.get_hyperparameters()\n",
    "        self.get_probabilities()\n",
    "        self.get_predictions()\n",
    "        self.fitted_clf = self.clf.fit(X_train, y_train)"
   ]
  },
  {
   "cell_type": "code",
   "execution_count": 44,
   "metadata": {},
   "outputs": [],
   "source": [
    "# Dict to save various model information\n",
    "models_dict = {}"
   ]
  },
  {
   "cell_type": "markdown",
   "metadata": {},
   "source": [
    "# Logistic Regeression\n",
    "## No tuning, default params"
   ]
  },
  {
   "cell_type": "code",
   "execution_count": 45,
   "metadata": {},
   "outputs": [],
   "source": [
    "clf = LogisticRegression(max_iter=1000)\n",
    "\n",
    "LogRegDefault = MLModel(\n",
    "    name=\"Logistic Regression default params\", clf=clf, X_train=X_train, y_train=y_train\n",
    ")\n",
    "LogRegDefault.run_all_metrics()\n",
    "models_dict[LogRegDefault.name] = LogRegDefault"
   ]
  },
  {
   "cell_type": "code",
   "execution_count": 46,
   "metadata": {},
   "outputs": [
    {
     "data": {
      "image/png": "[encoded data removed]",
      "text/plain": [
       "<Figure size 640x480 with 2 Axes>"
      ]
     },
     "metadata": {},
     "output_type": "display_data"
    }
   ],
   "source": [
    "LogRegDefault.display_confusion_matrix()"
   ]
  },
  {
   "cell_type": "code",
   "execution_count": 47,
   "metadata": {},
   "outputs": [
    {
     "data": {
      "text/plain": [
       "{'fit_time': 1.1166669845581054,\n",
       " 'score_time': 0.012075185775756836,\n",
       " 'test_Precision': 0.7689355742296919,\n",
       " 'test_Recall': 0.10822083766008998,\n",
       " 'test_F1': 0.1892739626445698}"
      ]
     },
     "execution_count": 47,
     "metadata": {},
     "output_type": "execute_result"
    }
   ],
   "source": [
    "LogRegDefault.scores"
   ]
  },
  {
   "cell_type": "markdown",
   "metadata": {},
   "source": [
    "Iniitla results are poor, from the confusion matrix it is clear the classifier is essentially just predicting 0 for all examples - this is a common problem with imbalanced data. \n",
    "\n",
    "## Class Weights\n"
   ]
  },
  {
   "cell_type": "code",
   "execution_count": 48,
   "metadata": {},
   "outputs": [
    {
     "name": "stderr",
     "output_type": "stream",
     "text": [
      "/Users/jamesmoro/Documents/Python/Customer_Churn/.venv/lib/python3.11/site-packages/sklearn/metrics/_classification.py:1471: UndefinedMetricWarning: Precision is ill-defined and being set to 0.0 due to no predicted samples. Use `zero_division` parameter to control this behavior.\n",
      "  _warn_prf(average, modifier, msg_start, len(result))\n",
      "/Users/jamesmoro/Documents/Python/Customer_Churn/.venv/lib/python3.11/site-packages/sklearn/metrics/_classification.py:1471: UndefinedMetricWarning: Precision is ill-defined and being set to 0.0 due to no predicted samples. Use `zero_division` parameter to control this behavior.\n",
      "  _warn_prf(average, modifier, msg_start, len(result))\n",
      "/Users/jamesmoro/Documents/Python/Customer_Churn/.venv/lib/python3.11/site-packages/sklearn/metrics/_classification.py:1471: UndefinedMetricWarning: Precision is ill-defined and being set to 0.0 due to no predicted samples. Use `zero_division` parameter to control this behavior.\n",
      "  _warn_prf(average, modifier, msg_start, len(result))\n"
     ]
    }
   ],
   "source": [
    "clf = LogisticRegression(\n",
    "    max_iter=1000,\n",
    "    class_weight={0: y_train.value_counts()[0], 1: y_train.value_counts()[1]},\n",
    "    solver=\"newton-cholesky\",  # Adjusting solver bc lbfgs does not converge\n",
    ")\n",
    "\n",
    "LogRegDefaultClassWeights = MLModel(\n",
    "    name=\"Logistic Regression default params with class weights\",\n",
    "    clf=clf,\n",
    "    X_train=X_train,\n",
    "    y_train=y_train,\n",
    ")\n",
    "LogRegDefaultClassWeights.run_all_metrics()\n",
    "models_dict[LogRegDefaultClassWeights.name] = LogRegDefaultClassWeights"
   ]
  },
  {
   "cell_type": "code",
   "execution_count": 49,
   "metadata": {},
   "outputs": [
    {
     "data": {
      "image/png": "[encoded data removed]",
      "text/plain": [
       "<Figure size 640x480 with 2 Axes>"
      ]
     },
     "metadata": {},
     "output_type": "display_data"
    }
   ],
   "source": [
    "LogRegDefaultClassWeights.display_confusion_matrix()"
   ]
  },
  {
   "cell_type": "code",
   "execution_count": 50,
   "metadata": {},
   "outputs": [
    {
     "data": {
      "text/plain": [
       "{'fit_time': 1.489130401611328,\n",
       " 'score_time': 0.013874578475952148,\n",
       " 'test_Precision': 0.4,\n",
       " 'test_Recall': 0.005607476635514018,\n",
       " 'test_F1': 0.011043153244988106}"
      ]
     },
     "execution_count": 50,
     "metadata": {},
     "output_type": "execute_result"
    }
   ],
   "source": [
    "LogRegDefaultClassWeights.scores"
   ]
  },
  {
   "cell_type": "markdown",
   "metadata": {},
   "source": [
    "Even worse! Let's see if we can do better with sampling"
   ]
  },
  {
   "cell_type": "markdown",
   "metadata": {},
   "source": [
    "# Sampling. \n",
    "\n",
    "Since our F1 score is quite low I think hyperparameter tuning at this stage is pointless, as we would only expect a 5 - 10% increase in performance. \n",
    "At this point I'll try Under, over, and SMOTE sampling and check the results. \n",
    "\n",
    "NOTE The sampling methods can take anywhere from 5 - 10 mins each to run. \n",
    "\n",
    "## Under Sampling"
   ]
  },
  {
   "cell_type": "code",
   "execution_count": 51,
   "metadata": {},
   "outputs": [
    {
     "name": "stderr",
     "output_type": "stream",
     "text": [
      "/Users/jamesmoro/Documents/Python/Customer_Churn/.venv/lib/python3.11/site-packages/sklearn/cluster/_kmeans.py:1416: FutureWarning: The default value of `n_init` will change from 10 to 'auto' in 1.4. Set the value of `n_init` explicitly to suppress the warning\n",
      "  super()._check_params_vs_input(X, default_n_init=10)\n"
     ]
    }
   ],
   "source": [
    "clf = LogisticRegression(max_iter=1000)\n",
    "cc = ClusterCentroids(random_state=0)\n",
    "X_undersampled, y_undersampled = cc.fit_resample(X_train, y_train)"
   ]
  },
  {
   "cell_type": "code",
   "execution_count": 52,
   "metadata": {},
   "outputs": [
    {
     "name": "stdout",
     "output_type": "stream",
     "text": [
      "[(0, 79464), (1, 536)]\n",
      "[(0, 536), (1, 536)]\n"
     ]
    }
   ],
   "source": [
    "# Inspecting the updated target feature counts\n",
    "print(sorted(Counter(y_train).items()))\n",
    "print(sorted(Counter(y_undersampled).items()))"
   ]
  },
  {
   "cell_type": "markdown",
   "metadata": {},
   "source": [
    "Under sampling reducing the number of examples in the majority class (0) to match that of the minority class (1). This is not ideal in our case as we lose around 99% of our data"
   ]
  },
  {
   "cell_type": "code",
   "execution_count": 53,
   "metadata": {},
   "outputs": [],
   "source": [
    "LogRegDefaultUnderSampled = MLModel(\n",
    "    name=\"Logistic Regression default params - undersampled\",\n",
    "    clf=clf,\n",
    "    X_train=X_undersampled,\n",
    "    y_train=y_undersampled,\n",
    ")\n",
    "LogRegDefaultUnderSampled.run_all_metrics()\n",
    "models_dict[LogRegDefaultUnderSampled.name] = LogRegDefaultUnderSampled"
   ]
  },
  {
   "cell_type": "code",
   "execution_count": 54,
   "metadata": {},
   "outputs": [
    {
     "data": {
      "image/png": "[encoded data removed]",
      "text/plain": [
       "<Figure size 640x480 with 2 Axes>"
      ]
     },
     "metadata": {},
     "output_type": "display_data"
    }
   ],
   "source": [
    "LogRegDefaultUnderSampled.display_confusion_matrix()"
   ]
  },
  {
   "cell_type": "code",
   "execution_count": 55,
   "metadata": {},
   "outputs": [
    {
     "data": {
      "text/plain": [
       "{'fit_time': 0.04384293556213379,\n",
       " 'score_time': 0.00455317497253418,\n",
       " 'test_Precision': 0.9488939185094765,\n",
       " 'test_Recall': 0.8918483904465212,\n",
       " 'test_F1': 0.9191851013606174}"
      ]
     },
     "execution_count": 55,
     "metadata": {},
     "output_type": "execute_result"
    }
   ],
   "source": [
    "LogRegDefaultUnderSampled.scores"
   ]
  },
  {
   "cell_type": "markdown",
   "metadata": {},
   "source": [
    "## Oversampling"
   ]
  },
  {
   "cell_type": "code",
   "execution_count": 56,
   "metadata": {},
   "outputs": [],
   "source": [
    "ros = RandomOverSampler(random_state=0)\n",
    "X_oversampled, y_oversampled = ros.fit_resample(X_train, y_train)"
   ]
  },
  {
   "cell_type": "code",
   "execution_count": 57,
   "metadata": {},
   "outputs": [
    {
     "name": "stdout",
     "output_type": "stream",
     "text": [
      "[(0, 79464), (1, 536)]\n",
      "[(0, 79464), (1, 79464)]\n"
     ]
    }
   ],
   "source": [
    "print(sorted(Counter(y_train).items()))\n",
    "print(sorted(Counter(y_oversampled).items()))"
   ]
  },
  {
   "cell_type": "markdown",
   "metadata": {},
   "source": [
    "Over sampling generates additional minority classes to balance out the data. Now we have arund 150,000 examples equally abalnced between 0 and 1. \n",
    "This technique is not ideal because the minority examples are merely copied over and over, our dataset does not gain any variety in examples"
   ]
  },
  {
   "cell_type": "code",
   "execution_count": 58,
   "metadata": {},
   "outputs": [],
   "source": [
    "LogRegDefaultOverSampled = MLModel(\n",
    "    name=\"Logistic Regression default params - oversampled\",\n",
    "    clf=clf,\n",
    "    X_train=X_oversampled,\n",
    "    y_train=y_oversampled,\n",
    ")\n",
    "LogRegDefaultOverSampled.run_all_metrics()\n",
    "models_dict[LogRegDefaultOverSampled.name] = LogRegDefaultOverSampled"
   ]
  },
  {
   "cell_type": "code",
   "execution_count": 59,
   "metadata": {},
   "outputs": [
    {
     "data": {
      "image/png": "[encoded data removed]",
      "text/plain": [
       "<Figure size 640x480 with 2 Axes>"
      ]
     },
     "metadata": {},
     "output_type": "display_data"
    }
   ],
   "source": [
    "LogRegDefaultOverSampled.display_confusion_matrix()"
   ]
  },
  {
   "cell_type": "code",
   "execution_count": 61,
   "metadata": {},
   "outputs": [
    {
     "data": {
      "text/plain": [
       "{'fit_time': 9.331001615524292,\n",
       " 'score_time': 0.03079514503479004,\n",
       " 'test_Precision': 0.9030278815509704,\n",
       " 'test_Recall': 0.8727977365748977,\n",
       " 'test_F1': 0.8876528211047402}"
      ]
     },
     "execution_count": 61,
     "metadata": {},
     "output_type": "execute_result"
    }
   ],
   "source": [
    "LogRegDefaultOverSampled.scores"
   ]
  },
  {
   "cell_type": "markdown",
   "metadata": {},
   "source": [
    "## SMOTE"
   ]
  },
  {
   "cell_type": "code",
   "execution_count": 62,
   "metadata": {},
   "outputs": [],
   "source": [
    "smote_enn = SMOTEENN(random_state=0)\n",
    "X_SMOTE, y_SMOTE = smote_enn.fit_resample(X_train, y_train)"
   ]
  },
  {
   "cell_type": "code",
   "execution_count": 63,
   "metadata": {},
   "outputs": [
    {
     "name": "stdout",
     "output_type": "stream",
     "text": [
      "[(0, 79464), (1, 536)]\n",
      "[(0, 79464), (1, 79464)]\n"
     ]
    }
   ],
   "source": [
    "print(sorted(Counter(y_train).items()))\n",
    "print(sorted(Counter(y_oversampled).items()))"
   ]
  },
  {
   "cell_type": "markdown",
   "metadata": {},
   "source": [
    "SMOTE (Synthetic Minority Oversampling Technique) is an improved way of oversampling. It uses k nearest neighbours to create synthetic data points of the minority class. "
   ]
  },
  {
   "cell_type": "code",
   "execution_count": 64,
   "metadata": {},
   "outputs": [],
   "source": [
    "LogRegDefaultSMOTE = MLModel(\n",
    "    name=\"Logistic Regression default params - oversampled\",\n",
    "    clf=clf,\n",
    "    X_train=X_SMOTE,\n",
    "    y_train=y_SMOTE,\n",
    ")\n",
    "LogRegDefaultSMOTE.run_all_metrics()\n",
    "models_dict[LogRegDefaultSMOTE.name] = LogRegDefaultSMOTE"
   ]
  },
  {
   "cell_type": "code",
   "execution_count": 65,
   "metadata": {},
   "outputs": [
    {
     "data": {
      "image/png": "[encoded data removed]",
      "text/plain": [
       "<Figure size 640x480 with 2 Axes>"
      ]
     },
     "metadata": {},
     "output_type": "display_data"
    }
   ],
   "source": [
    "LogRegDefaultSMOTE.display_confusion_matrix()"
   ]
  },
  {
   "cell_type": "code",
   "execution_count": 66,
   "metadata": {},
   "outputs": [
    {
     "data": {
      "text/plain": [
       "{'fit_time': 8.180934429168701,\n",
       " 'score_time': 0.032041406631469725,\n",
       " 'test_Precision': 0.9187513587833174,\n",
       " 'test_Recall': 0.9098586073564041,\n",
       " 'test_F1': 0.9142802707753852}"
      ]
     },
     "execution_count": 66,
     "metadata": {},
     "output_type": "execute_result"
    }
   ],
   "source": [
    "LogRegDefaultSMOTE.scores"
   ]
  },
  {
   "cell_type": "markdown",
   "metadata": {},
   "source": [
    "# XGBoost"
   ]
  },
  {
   "cell_type": "code",
   "execution_count": 67,
   "metadata": {},
   "outputs": [],
   "source": [
    "clf = xgb.XGBClassifier(tree_method=\"hist\", eval_metric=f1_score)\n",
    "XGBoostDefault = MLModel(\n",
    "    name=\"XGBoost - default params\",\n",
    "    clf=clf,\n",
    "    X_train=X_train,\n",
    "    y_train=y_train,\n",
    ")\n",
    "XGBoostDefault.run_all_metrics()\n",
    "models_dict[XGBoostDefault.name] = XGBoostDefault"
   ]
  },
  {
   "cell_type": "code",
   "execution_count": 68,
   "metadata": {},
   "outputs": [
    {
     "data": {
      "image/png": "[encoded data removed]",
      "text/plain": [
       "<Figure size 640x480 with 2 Axes>"
      ]
     },
     "metadata": {},
     "output_type": "display_data"
    }
   ],
   "source": [
    "XGBoostDefault.display_confusion_matrix()"
   ]
  },
  {
   "cell_type": "code",
   "execution_count": 69,
   "metadata": {},
   "outputs": [
    {
     "data": {
      "text/plain": [
       "{'fit_time': 0.5909987926483155,\n",
       " 'score_time': 0.023096847534179687,\n",
       " 'test_Precision': 0.8503501576342621,\n",
       " 'test_Recall': 0.7126341294565594,\n",
       " 'test_F1': 0.7738034002235061}"
      ]
     },
     "execution_count": 69,
     "metadata": {},
     "output_type": "execute_result"
    }
   ],
   "source": [
    "XGBoostDefault.scores"
   ]
  },
  {
   "cell_type": "markdown",
   "metadata": {},
   "source": [
    "Wow, XGBoost achieved scores comparable to logistic regression after sampling without any Over/under sampling. \n",
    "Not having to sample the data is preferable, as it is a slow process and using synthetic data is never optimal. \n",
    "\n",
    "I'm going to all the models run so far and pick up running some explainabiility tasks in the next notebook. \n",
    "Usually I would tune hyperparameters here but I don't have time unforutnaely. \n",
    "\n",
    "\n",
    "\n",
    "# Final Scores"
   ]
  },
  {
   "cell_type": "code",
   "execution_count": 70,
   "metadata": {},
   "outputs": [
    {
     "data": {
      "text/html": [
       "<div>\n",
       "<style scoped>\n",
       "    .dataframe tbody tr th:only-of-type {\n",
       "        vertical-align: middle;\n",
       "    }\n",
       "\n",
       "    .dataframe tbody tr th {\n",
       "        vertical-align: top;\n",
       "    }\n",
       "\n",
       "    .dataframe thead th {\n",
       "        text-align: right;\n",
       "    }\n",
       "</style>\n",
       "<table border=\"1\" class=\"dataframe\">\n",
       "  <thead>\n",
       "    <tr style=\"text-align: right;\">\n",
       "      <th></th>\n",
       "      <th>fit_time</th>\n",
       "      <th>score_time</th>\n",
       "      <th>test_Precision</th>\n",
       "      <th>test_Recall</th>\n",
       "      <th>test_F1</th>\n",
       "    </tr>\n",
       "  </thead>\n",
       "  <tbody>\n",
       "    <tr>\n",
       "      <th>Logistic Regression default params</th>\n",
       "      <td>1.116667</td>\n",
       "      <td>0.012075</td>\n",
       "      <td>0.768936</td>\n",
       "      <td>0.108221</td>\n",
       "      <td>0.189274</td>\n",
       "    </tr>\n",
       "    <tr>\n",
       "      <th>Logistic Regression default params with class weights</th>\n",
       "      <td>1.489130</td>\n",
       "      <td>0.013875</td>\n",
       "      <td>0.400000</td>\n",
       "      <td>0.005607</td>\n",
       "      <td>0.011043</td>\n",
       "    </tr>\n",
       "    <tr>\n",
       "      <th>Logistic Regression default params - undersampled</th>\n",
       "      <td>0.043843</td>\n",
       "      <td>0.004553</td>\n",
       "      <td>0.948894</td>\n",
       "      <td>0.891848</td>\n",
       "      <td>0.919185</td>\n",
       "    </tr>\n",
       "    <tr>\n",
       "      <th>Logistic Regression default params - oversampled</th>\n",
       "      <td>8.180934</td>\n",
       "      <td>0.032041</td>\n",
       "      <td>0.918751</td>\n",
       "      <td>0.909859</td>\n",
       "      <td>0.914280</td>\n",
       "    </tr>\n",
       "    <tr>\n",
       "      <th>XGBoost - default params</th>\n",
       "      <td>0.590999</td>\n",
       "      <td>0.023097</td>\n",
       "      <td>0.850350</td>\n",
       "      <td>0.712634</td>\n",
       "      <td>0.773803</td>\n",
       "    </tr>\n",
       "  </tbody>\n",
       "</table>\n",
       "</div>"
      ],
      "text/plain": [
       "                                                    fit_time  score_time  \\\n",
       "Logistic Regression default params                  1.116667    0.012075   \n",
       "Logistic Regression default params with class w...  1.489130    0.013875   \n",
       "Logistic Regression default params - undersampled   0.043843    0.004553   \n",
       "Logistic Regression default params - oversampled    8.180934    0.032041   \n",
       "XGBoost - default params                            0.590999    0.023097   \n",
       "\n",
       "                                                    test_Precision  \\\n",
       "Logistic Regression default params                        0.768936   \n",
       "Logistic Regression default params with class w...        0.400000   \n",
       "Logistic Regression default params - undersampled         0.948894   \n",
       "Logistic Regression default params - oversampled          0.918751   \n",
       "XGBoost - default params                                  0.850350   \n",
       "\n",
       "                                                    test_Recall   test_F1  \n",
       "Logistic Regression default params                     0.108221  0.189274  \n",
       "Logistic Regression default params with class w...     0.005607  0.011043  \n",
       "Logistic Regression default params - undersampled      0.891848  0.919185  \n",
       "Logistic Regression default params - oversampled       0.909859  0.914280  \n",
       "XGBoost - default params                               0.712634  0.773803  "
      ]
     },
     "execution_count": 70,
     "metadata": {},
     "output_type": "execute_result"
    }
   ],
   "source": [
    "models = list(models_dict.keys())\n",
    "scores = []\n",
    "for k in list(models_dict.keys()):\n",
    "    scores.append(models_dict[k].scores)\n",
    "final_scores_df = pd.DataFrame.from_dict(dict(zip(models, scores))).T\n",
    "final_scores_df"
   ]
  },
  {
   "cell_type": "markdown",
   "metadata": {},
   "source": [
    "Although the LogReg with sampling had slightly better performance, the time requirements required for sampling and the potential complications with generating test data with similar distributions means I am going to take XGBoost forward for explainability investigation and final predictions. "
   ]
  },
  {
   "cell_type": "markdown",
   "metadata": {},
   "source": [
    "# Saving Models"
   ]
  },
  {
   "cell_type": "code",
   "execution_count": 71,
   "metadata": {},
   "outputs": [],
   "source": [
    "save_trained_model_dir = Path(Path.cwd().parent, \"models\")\n",
    "for k, v in models_dict.items():\n",
    "    with open(Path(save_trained_model_dir, str(k) + \".pkl\"), \"wb\") as f:\n",
    "        pickle.dump(v, file=f)"
   ]
  },
  {
   "cell_type": "code",
   "execution_count": null,
   "metadata": {},
   "outputs": [],
   "source": []
  }
 ],
 "metadata": {
  "kernelspec": {
   "display_name": ".venv",
   "language": "python",
   "name": "python3"
  },
  "language_info": {
   "codemirror_mode": {
    "name": "ipython",
    "version": 3
   },
   "file_extension": ".py",
   "mimetype": "text/x-python",
   "name": "python",
   "nbconvert_exporter": "python",
   "pygments_lexer": "ipython3",
   "version": "3.11.4"
  }
 },
 "nbformat": 4,
 "nbformat_minor": 2
}
